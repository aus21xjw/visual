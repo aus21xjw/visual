{
 "cells": [
  {
   "cell_type": "markdown",
   "id": "57509af2",
   "metadata": {},
   "source": [
    "## Motivation\n",
    "\n",
    "The dataset is [all_billionaires_1997_2023.csv](https://www.kaggle.com/datasets/guillemservera/forbes-billionaires-1997-2023)\n",
    ". Exploring global wealth distribution is intriguing and challenging. This analysis will focus on industries and countries with concertrated wealth. Besides, the role of women in these sectors and examining wealth disparities are parts of analysis. My goal is allowing users to access wealth distribution in specific industries and countries through interactive buttons, providing intuitive insights into wealth disparities and the role of women."
   ]
  },
  {
   "cell_type": "markdown",
   "id": "1fc90665",
   "metadata": {},
   "source": [
    "## Basic stats\n",
    "Data cleaning and preprocessing: \n",
    "1. chose the data from 2010 to 2023, because the data before 2010 is small and missing data seriously\n",
    "2. standardized and removed duplicates from the 'business_industries' attribute\n",
    "3. dropped rows with NaN values in 'business_industries,' 'country_of_residence,' 'age,' and 'gender'\n",
    "4. converted the format of 'net_worth' from numerical values followed by 'B' to pure numerical values\n",
    "\n",
    "In terms of industries, both the **Energy** and **Media & Entertainment** sectors have shown minimal variations in billionaire counts over the past 14 years.The age range spans from 21 to 101 years old, and the United State is with the widest age rang among billionaires. A significant disparity in wealth between the top 10% of billionaires and those in the 10%-20% bracket. Among the top industries with the highest cumulative wealth, the **food & beverage** sector has the highest number of female billionaires."
   ]
  },
  {
   "cell_type": "markdown",
   "id": "fd1c9fa5",
   "metadata": {},
   "source": [
    "## Data Analysis\n",
    "\n",
    "In terms of industries, both the Energy and Media & Entertainment sectors have shown minimal variations in billionaire counts over the past 14 years, indicating that wealth in these fields remains concentrated among specific individuals, suggesting limited liquidity within these sectors. The substantial increase in the number of billionaires in the Finance & Investments, Manufacturing, and Technology industries, with Manufacturing and Technology doubling their counts, reflects significant growth in these sectors. However, the decline in billionaire counts across most industries since 2020 suggests a potential economic slowdown. This decline could be attributed to increased global economic uncertainty, supply chain issues, and a decrease in consumer confidence, affecting various sectors differently.\n",
    "\n",
    "The analysis highlights significant age disparities among billionaires across different countries. In the United States, the age range spans from 21 to 101 years old, making it the country with the widest age range among billionaires. In Russia, billionaires’ ages range from 24 to 68, indicating a relatively narrower age range. Indian billionaires tend to be around 60 years old, suggesting a concentration of wealth in this age group. German billionaires, on the other hand, show a diverse age distribution, with a notable concentration of wealth among individuals over 60, although no linear relationship is observed. These findings underscore the diverse age profiles of billionaires globally and reveal unique patterns in different countries’ billionaire demographics.\n",
    "\n",
    "The analysis demonstrates a significant disparity in wealth between the top 10% of billionaires and those in the 10%-20% bracket. From 2010, the average wealth of the top 10% of billionaires was twice that of the 10%-20% bracket, increasing to three times by 2023. This widening wealth gap between the wealthiest individuals and those moderately wealthy highlights a growing inequality trend over the years, indicating that the richest billionaires are amassing wealth at a much faster rate than the rest.\n",
    "\n",
    "Gender Image The gender disparity among billionaires is substantial, both in terms of quantity and proportion. Among the top industries with the highest cumulative wealth, the food & beverage sector has the highest number of female billionaires, while the energy sector has the fewest. Additionally, in the finance & investment industry, the number of male billionaires significantly outweighs that of female billionaires. These observations underline the pronounced gender gap in billionaire representation across various industries, with notable differences in both numbers and proportions."
   ]
  },
  {
   "cell_type": "markdown",
   "id": "7d49a239",
   "metadata": {},
   "source": [
    "## Genre\n",
    "### Visual Narrative\n",
    "visual structuring: timebar，industry and wealth are both strongly related to time\n",
    "highlighting: feature distinction, could give a direct insight of multi variables \n",
    "\n",
    "### Narrative Structure\n",
    "Interactivity: very limited interactivity, dataset has many industries and countries, so selection buttons convenient for user to select which industry and country they want to check\n",
    "Messaging: captions/headlines,Annotations,Repetition Introductory Text, Summary / Synthesis, write down some obvious conclusion."
   ]
  },
  {
   "cell_type": "markdown",
   "id": "69b7536a",
   "metadata": {},
   "source": [
    "## Visualizations\n",
    "Figure one is the line of billionaire counts with industries over years with industries selection buttons. It could show that billionaire count of each industry(top10 industries of sums of wealth) trend within 14 years.\n",
    "\n",
    "Figure two is the scatter of all billionaires in top10 industries sums of wealth with countries selection buttons. It shows each country(top5 countries of sums of wealth)'s age and wealth distructions.\n",
    "\n",
    "Figure three is the line of top10%, top10%-20%, bottom80% average wealth of the year. It shows the gap wealth of three periods, e.g. the average wealth of top10% is almost 1/2 of the bottom80%.\n",
    "\n",
    "Figure four is the combination of bar and line charts. The x axis is industries, the left y axis is billionaire counts and right y axis is gender ratio. It mainly shows the gap counts between female and male billionaires, and relatively good performance industries of two."
   ]
  },
  {
   "cell_type": "markdown",
   "id": "1618e40d",
   "metadata": {},
   "source": [
    "## Discussion\n",
    "\n",
    "It's good to show the age distribution of billionaires in different countries, which is hard to see by eyes or sheets.\n",
    "\n",
    "The second figure is planned to add year selection, but failed, otherwise it could show the age and wealth distribution trend over years. Also tried to explore the gender more deeply, but didn't find the suitable dataset."
   ]
  },
  {
   "cell_type": "markdown",
   "id": "38b4630e",
   "metadata": {},
   "source": [
    "## Contributions\n",
    "\n",
    "Jiawen Xin(s212520) did all."
   ]
  }
 ],
 "metadata": {
  "kernelspec": {
   "display_name": "Python 3",
   "language": "python",
   "name": "python3"
  },
  "language_info": {
   "codemirror_mode": {
    "name": "ipython",
    "version": 3
   },
   "file_extension": ".py",
   "mimetype": "text/x-python",
   "name": "python",
   "nbconvert_exporter": "python",
   "pygments_lexer": "ipython3",
   "version": "3.6.9"
  }
 },
 "nbformat": 4,
 "nbformat_minor": 5
}
